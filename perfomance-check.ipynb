{
 "cells": [
  {
   "cell_type": "code",
   "execution_count": 1,
   "id": "c4752a1a",
   "metadata": {},
   "outputs": [],
   "source": [
    "#!pip install flair"
   ]
  },
  {
   "cell_type": "code",
   "execution_count": 2,
   "id": "a6a783e7",
   "metadata": {},
   "outputs": [
    {
     "name": "stderr",
     "output_type": "stream",
     "text": [
      "C:\\Users\\JOBIAK\\anaconda3\\lib\\site-packages\\huggingface_hub\\file_download.py:560: FutureWarning: `cached_download` is the legacy way to download files from the HF hub, please consider upgrading to `hf_hub_download`\n",
      "  warnings.warn(\n"
     ]
    },
    {
     "name": "stdout",
     "output_type": "stream",
     "text": [
      "2022-08-24 12:26:20,291 loading file C:\\Users\\JOBIAK\\.flair\\models\\ner-english-large\\07301f59bb8cb113803be316267f06ddf9243cdbba92a4c8067ef92442d2c574.554244d3476d97501a766a98078421817b14654496b86f2f7bd139dc502a4f29\n",
      "2022-08-24 12:27:05,169 SequenceTagger predicts: Dictionary with 20 tags: <unk>, O, S-ORG, S-MISC, B-PER, E-PER, S-LOC, B-ORG, E-ORG, I-PER, S-PER, B-MISC, I-MISC, E-MISC, I-ORG, B-LOC, E-LOC, I-LOC, <START>, <STOP>\n"
     ]
    }
   ],
   "source": [
    "from flair.data import Sentence\n",
    "from flair.models import SequenceTagger\n",
    "tagger = SequenceTagger.load(\"flair/ner-english-large\")"
   ]
  },
  {
   "cell_type": "code",
   "execution_count": 3,
   "id": "7e681a38",
   "metadata": {},
   "outputs": [],
   "source": [
    "from bs4 import BeautifulSoup\n",
    "import re\n",
    "def convert(html):\n",
    "    description= []\n",
    "    empty = [\"\"]\n",
    "    empty[-1]\n",
    "    empty_list=[]\n",
    "    soup = BeautifulSoup(html, \"lxml\")\n",
    "    tags_list = list(set([tag.name for tag in soup.find_all()]))\n",
    "    tags_list = [\"/\"+i for i in tags_list]+tags_list\n",
    "    tags_list.append(\"br/\")\n",
    "    tags_list.append(\"p/\")\n",
    "    for tag in soup.find_all():\n",
    "        if (str(tag) in str(empty[-1])):\n",
    "            continue\n",
    "        else:\n",
    "            empty.append(tag)\n",
    "    for i in empty[1:]:\n",
    "        empty_list.append(re.findall(r'<>[^>]*>.*?</[^>]*>(?:<[^>]*/>)?|[^<>]+', str(i)))\n",
    "    for i in range(len(empty_list)):\n",
    "            for j in range(len(empty_list[i])):\n",
    "                if  not(empty_list[i][j].isspace()):\n",
    "                    if empty_list[i][j] in tags_list:\n",
    "                        continue\n",
    "                    else:\n",
    "                        description.append(empty_list[i][j]) \n",
    "    return description"
   ]
  },
  {
   "cell_type": "code",
   "execution_count": 4,
   "id": "b04db8b5",
   "metadata": {},
   "outputs": [],
   "source": [
    "html = \"\"\"<p>Gopuff, a leading consumer technology platform delivering everyday essentials in minutes from local facilities, is looking for delivery partners to deliver through goDrive, an app that connects Delivery Driver Partners with customers. With its own centrally located facilities in every local market it serves, Gopuff delivers thousands of everyday needs, from cleaning supplies, home needs and OTC medications to food, drinks and more. It&apos;s quick and easy to EARN BIG!</p>\\n <p><br/></p>\\n <p>Why Partner with goDrive?</p>\\n <p><br/></p>\\n <p>Earn a per order commission + 100% of your tips</p>\\n <p>Make a guaranteed hourly minimum* (varies by market)</p>\\n <p>Choose your own schedule and deliver when you want</p>\\n <p>No restaurants, no riders - deliver from a Gopuff facility, that&#x2019;s it!</p>\\n <p>What you&#x2019;ll need to get started:</p>\\n <p><br/></p>\\n <p>Gotta be 21 years old!</p>\\n <p>Valid U.S. driver&#x2019;s license</p>\\n <p>Vehicle insurance &amp; registration</p>\\n <p>Smartphone</p>\\n <p>Willing &amp; able to pass a pre-paid alcohol delivery training course (where applicable)</p>\\n <p>How it works:</p>\\n <p><br/></p>\\n <p>Login to the goDrive app from your local facility</p>\\n <p>Grab a few orders</p>\\n <p>Deliver to happy customers</p>\\n <p>No previous delivery experience required!&#xA0;</p>\\n <p><br/></p>\\n <p>--</p>\\n <p><br/></p>\\n <p>goDrive is an app that connects Delivery Driver Partners with consumers who want deliveries from on-demand businesses like Gopuff. Partnering with goDrive is a great opportunity for anyone looking for a flexible schedule. Delivery Driver Partners will be independent contractors. Delivery Driver Partners must have a valid driver&apos;s license, and minimum auto insurance and complete a background check. Delivery Driver Partners will use their own reliable car, iPhone or Android phone and their data and text plan. Previous delivery experience is not required, but we encourage drivers from other delivery or ridesharing services to submit an application. Let&apos;s get you on the road. Apply today! *Hourly minimum if requirements met.</p>\"\"\""
   ]
  },
  {
   "cell_type": "code",
   "execution_count": 5,
   "id": "9e77fc85",
   "metadata": {},
   "outputs": [],
   "source": [
    "org_data = convert(html)"
   ]
  },
  {
   "cell_type": "code",
   "execution_count": 6,
   "id": "a083c4d4",
   "metadata": {},
   "outputs": [],
   "source": [
    "html1 = \"\"\"<html><body><p>Gopuff, a leading consumer technology platform delivering everyday essentials in minutes from local facilities, is looking for delivery partners to deliver through goDrive, an app that connects Delivery Driver Partners with customers. With its own centrally located facilities in every local market it serves, Gopuff delivers thousands of everyday needs, from cleaning supplies, home needs and OTC medications to food, drinks and more. It's quick and easy to EARN BIG!</p> <p><br/></p> <p>Why Partner with goDrive?</p> <p><br/></p> <p>Earn a per order commission + 100% of your tips</p> <p>Make a guaranteed hourly minimum* (varies by market)</p> <p>When you want, choose your own schedule</p> <p>No restaurants, no riders - deliver from a Gopuff facility, that’s it!</p> <p>What you’ll need to get started: </p> <p><br/></p> <p>Gotta be 21 years old!</p> <p>Valid U.S. driver’s license</p> <p>Vehicle insurance &amp; registration</p> <p>Smartphone</p> <p>Willing &amp; able to pass a pre-paid alcohol delivery training course (where applicable)</p> <p>How it works: </p> <p><br/></p> <p>Go to your local facility to sign into the app</p> <p>Grab a few orders</p> <p>Deliver to happy customers</p> <p>No previous delivery experience required! </p> <p><br/></p> <p>--</p> <p><br/></p> <p>goDrive is an app that connects Delivery Driver Partners with consumers who want deliveries from on-demand businesses like Gopuff. There is a great opportunity for anyone who needs a flexible schedule to partner with goDrive. Delivery Driver Partners will be independent contractors. Delivery Driver Partners need to be valid drivers' licenses, have minimum auto insurance and complete a background check. Delivery Driver Partners will use their own reliable car, iPhone or Android phone and their data and text plan. We encourage drivers from other delivery services to submit an application since previous delivery experience isn't required. Let's get you on the road. Apply today! *Hourly minimum if requirements met.</p></body></html>\"\"\""
   ]
  },
  {
   "cell_type": "code",
   "execution_count": 7,
   "id": "fc757e62",
   "metadata": {},
   "outputs": [],
   "source": [
    "mod_data = convert(html1)"
   ]
  },
  {
   "cell_type": "code",
   "execution_count": 8,
   "id": "01d7dd21",
   "metadata": {},
   "outputs": [],
   "source": [
    "org_desc = [j for i in org_data for j in i.split(\". \")]\n",
    "mod_desc = [j for i in mod_data for j in i.split(\". \")]"
   ]
  },
  {
   "cell_type": "code",
   "execution_count": 9,
   "id": "09007052",
   "metadata": {},
   "outputs": [],
   "source": [
    "from sentence_transformers import SentenceTransformer, util\n",
    "def paracheck(orginal_input,modified_input):\n",
    "    orginal_input.strip()\n",
    "    modified_input.strip()\n",
    "    if orginal_input.__eq__(modified_input):\n",
    "        return 1\n",
    "    else:\n",
    "        similarity_model = SentenceTransformer('sentence-transformers/bert-base-nli-mean-tokens')\n",
    "        embedding_1=similarity_model.encode(orginal_input,convert_to_tensor=False)\n",
    "        embedding_2=similarity_model.encode(modified_input, convert_to_tensor=False)\n",
    "        similarity=util.pytorch_cos_sim(embedding_1, embedding_2).numpy()[0][0]\n",
    "        return similarity"
   ]
  },
  {
   "cell_type": "code",
   "execution_count": 10,
   "id": "b28c18b8",
   "metadata": {},
   "outputs": [],
   "source": [
    "def sentence_length(org_senten,mod_senten):\n",
    "    org_word = len(org_senten.split())\n",
    "    mod_word = len(mod_senten.split())\n",
    "    if org_word == mod_word:\n",
    "        return [False,org_word,mod_word]\n",
    "    else:\n",
    "        return [True,org_word,mod_word]"
   ]
  },
  {
   "cell_type": "code",
   "execution_count": 11,
   "id": "75b619f3",
   "metadata": {},
   "outputs": [],
   "source": [
    "def pres_asterisk(org_desc,mod_desc):\n",
    "    if \"*\" in org_desc:\n",
    "        if org_desc.__eq__(mod_desc):\n",
    "            return False\n",
    "        elif \"*\" in org_desc and \"*\" in mod_desc:\n",
    "            if org_desc.count(\"*\") == mod_desc.count(\"*\"):\n",
    "                at_first=0\n",
    "                at_last=0\n",
    "                at_middle=0\n",
    "                c=org_desc.count(\"*\")\n",
    "                c1=mod_desc.count(\"*\")\n",
    "                i=0\n",
    "                j=-1\n",
    "                at_first1=0\n",
    "                at_last1=0\n",
    "                at_middle1=0\n",
    "                while True:\n",
    "                    if org_desc[i]==\"*\":\n",
    "                        at_first+=1\n",
    "                        i+=1\n",
    "                    if org_desc[j]==\"*\" :\n",
    "                        at_last+=1\n",
    "                        j-=1\n",
    "                    if org_desc[i]!=\"*\" and org_desc[j]!=\"*\":\n",
    "                        break\n",
    "                at_middle=c-at_first-at_last\n",
    "                i=0\n",
    "                j=-1\n",
    "                while True:\n",
    "                    if mod_desc[i]==\"*\":\n",
    "                        at_first1+=1\n",
    "                        i+=1\n",
    "                    if mod_desc[j]==\"*\" :\n",
    "                        at_last1+=1\n",
    "                        j-=1\n",
    "                    if mod_desc[i]!=\"*\" and mod_desc[j]!=\"*\":\n",
    "                        break\n",
    "                at_middle1=c1-at_first1-at_last1\n",
    "                if at_middle>0:\n",
    "                    indexes = [x for x, v in enumerate(org_desc) if v == '*']\n",
    "                    index_weight=sum(indexes)\n",
    "                    if (index_weight)//len(indexes) <len(org_desc)//2:\n",
    "                        if at_first1==(at_middle+at_first):\n",
    "                            return False\n",
    "                        else:\n",
    "                            return True\n",
    "                    else:\n",
    "                        if at_last1==(at_middle+at_last):\n",
    "                            return False\n",
    "                        else:\n",
    "                            return True\n",
    "                elif at_first!=at_first1:\n",
    "                    return True\n",
    "                elif at_last>=1 and (at_last!=at_last1):\n",
    "                    return True\n",
    "                else:\n",
    "                    return False\n",
    "            else:\n",
    "                return True\n",
    "    elif \"*\" in org_desc and \"*\" not in mod_desc or \"*\" not in org_desc and \"*\"  in mod_desc:\n",
    "        return True\n",
    "    else:\n",
    "        return False"
   ]
  },
  {
   "cell_type": "code",
   "execution_count": 12,
   "id": "57ba7dde",
   "metadata": {},
   "outputs": [],
   "source": [
    "def presence_colon(org_sen,mod_sen):\n",
    "    if \":\" in org_sen and \":\" in mod_sen:\n",
    "        org_ind = org_sen.index(':')\n",
    "        mod_ind = mod_sen.index(':')\n",
    "        original_col_data = org_sen[:org_ind]\n",
    "        modified_col_data = mod_sen[:mod_ind]\n",
    "        org_count = org_sen.count(':')\n",
    "        mod_count = mod_sen.count(':')\n",
    "        if original_col_data == modified_col_data and org_count == mod_count:\n",
    "            return False\n",
    "        else:\n",
    "            return True\n",
    "    elif (\":\" in org_sen and \":\" not in mod_sen) or (\":\" not in org_sen and \":\" in mod_sen):\n",
    "        return True\n",
    "    else:\n",
    "        return False"
   ]
  },
  {
   "cell_type": "code",
   "execution_count": 13,
   "id": "8b6de3d7",
   "metadata": {},
   "outputs": [],
   "source": [
    "def Cname_Loc_compare(Original_desc,Modified_desc):\n",
    "    ner_model = Sentence(Original_desc)\n",
    "    tagger.predict(ner_model)\n",
    "    l=ner_model.get_spans('ner')\n",
    "    company_list_original=[i.text for i in l if i.score>0.99 and i.tag==\"ORG\"]\n",
    "    Locations_original=[i.text for i in l if i.score>0.99 and i.tag==\"LOC\"]\n",
    "    ner_model = Sentence(Modified_desc)\n",
    "    tagger.predict(ner_model)\n",
    "    l=ner_model.get_spans('ner')\n",
    "    company_list_modified=[i.text for i in l if i.score>0.99 and i.tag==\"ORG\"]\n",
    "    Locations_modified=[i.text for i in l if i.score>0.99 and i.tag==\"LOC\"]\n",
    "    result=[]\n",
    "    if len(company_list_original)!=len(company_list_modified):\n",
    "        result.append(True)\n",
    "    else:\n",
    "        f=0\n",
    "        for i in range(len(company_list_modified)):\n",
    "            if company_list_original[i]!=company_list_modified[i]:\n",
    "                f=1\n",
    "                break\n",
    "        if f==0:\n",
    "            result.append(False)\n",
    "        else:\n",
    "            result.append(True)\n",
    "    if len(Locations_original)!=len(Locations_modified):\n",
    "        result.append(True)\n",
    "    else:\n",
    "        f=0\n",
    "        for i in range(len(Locations_original)):\n",
    "            if Locations_original[i]!=Locations_modified[i]:\n",
    "                f=1\n",
    "                break\n",
    "        if f==0:\n",
    "            result.append(False)\n",
    "        else:\n",
    "            result.append(True)\n",
    "    return result"
   ]
  },
  {
   "cell_type": "code",
   "execution_count": 14,
   "id": "feb40c80",
   "metadata": {},
   "outputs": [],
   "source": [
    "def fullstop(orginial_desc,modified_desc):\n",
    "    original_count=orginial_desc.count('.')\n",
    "    modified_count=modified_desc.count('.')\n",
    "    difference=original_count-modified_count\n",
    "    if original_count==modified_count:\n",
    "        return [False,difference]\n",
    "    else:\n",
    "        return [True,difference]"
   ]
  },
  {
   "cell_type": "code",
   "execution_count": 15,
   "id": "31ba28c3",
   "metadata": {},
   "outputs": [
    {
     "name": "stdout",
     "output_type": "stream",
     "text": [
      "5\n",
      "95.27999997138977\n"
     ]
    }
   ],
   "source": [
    "para_list = [round(paracheck(i,j), 3) for i,j in zip(org_desc,mod_desc)]\n",
    "paraphased_list = [i for i in para_list if i!=1]\n",
    "paraphased_count = len(paraphased_list)\n",
    "print(paraphased_count)\n",
    "average = sum(paraphased_list)*100/len(paraphased_list)\n",
    "print(average)"
   ]
  },
  {
   "cell_type": "code",
   "execution_count": 16,
   "id": "771c21fc",
   "metadata": {},
   "outputs": [
    {
     "name": "stdout",
     "output_type": "stream",
     "text": [
      "[[False, 32, 32], [False, 31, 31], [False, 7, 7], [False, 4, 4], [False, 10, 10], [False, 8, 8], [True, 9, 7], [False, 12, 12], [False, 6, 6], [False, 5, 5], [False, 2, 2], [False, 2, 2], [False, 4, 4], [False, 1, 1], [False, 13, 13], [False, 3, 3], [True, 9, 10], [False, 4, 4], [False, 4, 4], [False, 5, 5], [False, 1, 1], [False, 19, 19], [True, 14, 16], [False, 7, 7], [False, 18, 18], [False, 19, 19], [True, 20, 17], [False, 6, 6], [False, 7, 7]]\n"
     ]
    }
   ],
   "source": [
    "length_match = [(sentence_length(i,j)) for i,j in zip(org_desc,mod_desc)]\n",
    "print(length_match)"
   ]
  },
  {
   "cell_type": "code",
   "execution_count": 17,
   "id": "0a7b2ac7",
   "metadata": {},
   "outputs": [
    {
     "name": "stdout",
     "output_type": "stream",
     "text": [
      "[False, False, False, False, False, False, False, False, False, False, False, False, False, False, False, False, False, False, False, False, False, False, False, False, False, False, False, False, False]\n"
     ]
    }
   ],
   "source": [
    "asterisk_list = [(pres_asterisk(i,j)) for i,j in zip(org_desc,mod_desc)]\n",
    "print(asterisk_list)"
   ]
  },
  {
   "cell_type": "code",
   "execution_count": 18,
   "id": "3da25bd2",
   "metadata": {},
   "outputs": [
    {
     "name": "stdout",
     "output_type": "stream",
     "text": [
      "[[False, False], [False, False], [False, False], [False, False], [False, False], [False, False], [False, False], [False, False], [False, False], [False, False], [False, False], [False, False], [False, False], [False, False], [False, False], [False, False], [False, False], [False, False], [False, False], [False, False], [False, False], [False, False], [False, False], [False, False], [False, False], [False, False], [False, False], [False, False], [False, False]]\n"
     ]
    }
   ],
   "source": [
    "cname_loc_list = [(Cname_Loc_compare(i,j)) for i,j in zip(org_desc,mod_desc)]\n",
    "print(cname_loc_list)"
   ]
  },
  {
   "cell_type": "code",
   "execution_count": 19,
   "id": "debd4cd2",
   "metadata": {},
   "outputs": [
    {
     "name": "stdout",
     "output_type": "stream",
     "text": [
      "[False, False, False, False, False, False, False, False, False, False, False, False, False, False, False, False, False, False, False, False, False, False, False, False, False, False, False, False, False]\n"
     ]
    }
   ],
   "source": [
    "colon_list = [(presence_colon(i,j)) for i,j in zip(org_desc,mod_desc)]\n",
    "print(colon_list)"
   ]
  },
  {
   "cell_type": "code",
   "execution_count": 20,
   "id": "29d0a4f5",
   "metadata": {},
   "outputs": [
    {
     "name": "stdout",
     "output_type": "stream",
     "text": [
      "[[False, 0], [False, 0], [False, 0], [False, 0], [False, 0], [False, 0], [False, 0], [False, 0], [False, 0], [False, 0], [False, 0], [False, 0], [False, 0], [False, 0], [False, 0], [False, 0], [False, 0], [False, 0], [False, 0], [False, 0], [False, 0], [False, 0], [False, 0], [False, 0], [False, 0], [False, 0], [False, 0], [False, 0], [False, 0]]\n"
     ]
    }
   ],
   "source": [
    "fullstop_list = [(fullstop(i,j)) for i,j in zip(org_desc,mod_desc)]\n",
    "print(fullstop_list)"
   ]
  },
  {
   "cell_type": "code",
   "execution_count": null,
   "id": "ccff4a08",
   "metadata": {},
   "outputs": [],
   "source": []
  }
 ],
 "metadata": {
  "kernelspec": {
   "display_name": "Python 3 (ipykernel)",
   "language": "python",
   "name": "python3"
  },
  "language_info": {
   "codemirror_mode": {
    "name": "ipython",
    "version": 3
   },
   "file_extension": ".py",
   "mimetype": "text/x-python",
   "name": "python",
   "nbconvert_exporter": "python",
   "pygments_lexer": "ipython3",
   "version": "3.9.12"
  }
 },
 "nbformat": 4,
 "nbformat_minor": 5
}
